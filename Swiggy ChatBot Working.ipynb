{
 "cells": [
  {
   "cell_type": "markdown",
   "id": "83855b38",
   "metadata": {},
   "source": [
    "# How Swiggy ChatBot Works?"
   ]
  },
  {
   "cell_type": "markdown",
   "id": "733ca1b9",
   "metadata": {},
   "source": []
  },
  {
   "cell_type": "markdown",
   "id": "3fb97114",
   "metadata": {},
   "source": [
    "Swiggy is India's largest online food ordering and delivery platform, founded in 2014. It is based in Bangalore, India, and was founded in 2014 by Nandan Reddy, Sriharsha Majety and Rahul Jaimini. It is now operating in over 500 Indian cities. Nandan Reddy and Sriharsha Majety, the two founders, created Bundl, an e-commerce website in 2013 to help with courier service and shipping within India. Bundl was put on hold and rebranded in order to enter the meal delivery business.\n",
    "\n",
    "The meal delivery industry was in chaos at the time, with numerous major startups such as Foodpanda, TinyOwl, and Ola Cafe suffering. In 2014, Majety and Reddy approached Rahul Jaimini, a former Myntra employee, and created Swiggy and its parent firm Bundl Technologies. The company grew quickly after establishing a dedicated delivery network and focusing on logistics and securing crucial resources.\n",
    "\n",
    "\n",
    "\n",
    "\n",
    "\n",
    "\n",
    "\n",
    "\n",
    "\n",
    "Swiggy is one of the most prominent participants in the global online food ordering and delivery sector. Its quick delivery made folks feel like they were in a bed of roses."
   ]
  }
 ],
 "metadata": {
  "kernelspec": {
   "display_name": "Python 3",
   "language": "python",
   "name": "python3"
  },
  "language_info": {
   "codemirror_mode": {
    "name": "ipython",
    "version": 3
   },
   "file_extension": ".py",
   "mimetype": "text/x-python",
   "name": "python",
   "nbconvert_exporter": "python",
   "pygments_lexer": "ipython3",
   "version": "3.8.8"
  }
 },
 "nbformat": 4,
 "nbformat_minor": 5
}
